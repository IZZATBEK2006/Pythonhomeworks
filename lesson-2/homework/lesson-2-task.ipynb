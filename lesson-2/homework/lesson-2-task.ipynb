{
 "cells": [
  {
   "cell_type": "markdown",
   "metadata": {},
   "source": [
    "#1 create program to ask name and year of birth from user and tell them theur age"
   ]
  },
  {
   "cell_type": "code",
   "execution_count": 2,
   "metadata": {},
   "outputs": [
    {
     "name": "stdout",
     "output_type": "stream",
     "text": [
      "Hello Izzatbek, you are 19 years old.\n"
     ]
    }
   ],
   "source": [
    "name = input (\"Enter your name: \")\n",
    "year_of_birth = int(input(\"Enter your year of birth: \"))\n",
    "\n",
    "from  datetime import date\n",
    "current_year = date.today().year\n",
    "age = current_year - year_of_birth\n",
    "\n",
    "print(f\"Hello {name}, you are {age} years old.\")"
   ]
  },
  {
   "cell_type": "markdown",
   "metadata": {},
   "source": [
    "#2 Extract car names from this text\n",
    "txt ='LMaasleitbtui'"
   ]
  },
  {
   "cell_type": "code",
   "execution_count": 19,
   "metadata": {},
   "outputs": [
    {
     "name": "stdout",
     "output_type": "stream",
     "text": [
      "Extracted Car Name from txt1: No car name found\n"
     ]
    }
   ],
   "source": [
    "import itertools\n",
    "\n",
    "def find_car_name(scrambled_text, car_list):\n",
    "    scrambled_text = scrambled_text.lower()\n",
    "    for car in car_list:\n",
    "        if sorted(car.lower()) == sorted(scrambled_text):\n",
    "            return car\n",
    "        return \"No car name found\"\n",
    "\n",
    "car_name = [\"Lamborghini\", \"Maserati\", \"Tesla\", \"BMW\", \"Audi\", \"Mazda\"]\n",
    "\n",
    "txt1 = \"LMaasleitbtui\"\n",
    "\n",
    "car1 = find_car_name (txt1, car_name)\n",
    "\n",
    "print(\"Extracted Car Name from txt1:\", car1)"
   ]
  },
  {
   "cell_type": "markdown",
   "metadata": {},
   "source": [
    "#3 Extract car names from this text"
   ]
  },
  {
   "cell_type": "code",
   "execution_count": 23,
   "metadata": {},
   "outputs": [
    {
     "name": "stdout",
     "output_type": "stream",
     "text": [
      "Exrtacted Car Name from txt2: None\n"
     ]
    }
   ],
   "source": [
    "import itertools\n",
    "\n",
    "def find_car_name(scrambled_text, car_list):\n",
    "    scrambled_text = scrambled_text.lower()\n",
    "    for car in car_list:\n",
    "        if sorted(car.lower()) == sorted(scrambled_text):\n",
    "            return car \n",
    "    \n",
    "\n",
    "\n",
    "car_name = [\"Lamborghini\", \"Maserati\", \"Tesla\", \"BMW\", \"Audi\", \"Mazda\"]\n",
    "\n",
    "txt2 = \"MsaatmiazD\"\n",
    "\n",
    "\n",
    "car2 = find_car_name (txt2, car_name)\n",
    "\n",
    "print(\"Exrtacted Car Name from txt2:\", car2)"
   ]
  },
  {
   "cell_type": "markdown",
   "metadata": {},
   "source": [
    "#4 Extract residence are from this text. txt = \"I'm John. I am from London"
   ]
  },
  {
   "cell_type": "code",
   "execution_count": 24,
   "metadata": {},
   "outputs": [
    {
     "name": "stdout",
     "output_type": "stream",
     "text": [
      "Residence area: London\n"
     ]
    }
   ],
   "source": [
    "import re\n",
    "\n",
    "txt = \"I'm John. I am from London\"\n",
    "match = re.search(r'from (\\w+)', txt)\n",
    "if match:\n",
    "    print(\"Residence area:\", match.group(1))\n",
    "else:\n",
    "    print(\"Residence area not found\")"
   ]
  }
 ],
 "metadata": {
  "kernelspec": {
   "display_name": "Python 3",
   "language": "python",
   "name": "python3"
  },
  "language_info": {
   "codemirror_mode": {
    "name": "ipython",
    "version": 3
   },
   "file_extension": ".py",
   "mimetype": "text/x-python",
   "name": "python",
   "nbconvert_exporter": "python",
   "pygments_lexer": "ipython3",
   "version": "3.13.2"
  }
 },
 "nbformat": 4,
 "nbformat_minor": 2
}
