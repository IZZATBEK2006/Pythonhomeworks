{
 "cells": [
  {
   "cell_type": "markdown",
   "metadata": {},
   "source": [
    "## HOMEWORK 1 ASSIGNMENT"
   ]
  },
  {
   "cell_type": "code",
   "execution_count": 47,
   "metadata": {},
   "outputs": [
    {
     "name": "stdout",
     "output_type": "stream",
     "text": [
      "sales_data.csv is created!\n"
     ]
    }
   ],
   "source": [
    "import pandas as pd\n",
    "\n",
    "data = {\n",
    "    \"Date\": [\"2025-03-01\", \"2025-03-02\", \"2025-03-02\", \"2025-03-03\", \"2025-03-04\"],\n",
    "    \"Product\": [\"Laptop\", \"Mouse\", \"Keyboard\", \"Monitor\", \"Mouse\"],\n",
    "    \"Category\": [\"Electronics\", \"Accessories\", \"Accessories\", \"Electronics\", \"Accessories\"],\n",
    "    \"Quantity\": [5, 10, 7, 3, 15],\n",
    "    \"Price\": [1000, 25, 50, 300, 20]\n",
    "}\n",
    "\n",
    "df = pd.DataFrame(data)\n",
    "\n",
    "df.to_csv(\"sales_data.csv\", index=False)\n",
    "\n",
    "print(\"sales_data.csv is created!\")\n",
    "\n",
    "\n"
   ]
  },
  {
   "cell_type": "code",
   "execution_count": 55,
   "metadata": {},
   "outputs": [
    {
     "name": "stdout",
     "output_type": "stream",
     "text": [
      "         Date   Product     Category  Quantity  Price\n",
      "0  2025-03-01    Laptop  Electronics         5   1000\n",
      "1  2025-03-02     Mouse  Accessories        10     25\n",
      "2  2025-03-02  Keyboard  Accessories         7     50\n",
      "3  2025-03-03   Monitor  Electronics         3    300\n",
      "4  2025-03-04     Mouse  Accessories        15     20\n"
     ]
    }
   ],
   "source": [
    "pd.read_csv(\"sales_data.csv\")\n",
    "print(df.head())\n"
   ]
  },
  {
   "cell_type": "code",
   "execution_count": 56,
   "metadata": {},
   "outputs": [
    {
     "name": "stdout",
     "output_type": "stream",
     "text": [
      "             Total_Quantity   Avg_Price  Max_Quantity\n",
      "Category                                             \n",
      "Accessories              32   31.666667            15\n",
      "Electronics               8  650.000000             5\n"
     ]
    }
   ],
   "source": [
    "category_stats = df.groupby(\"Category\").agg(\n",
    "    Total_Quantity=('Quantity', 'sum'),\n",
    "    Avg_Price=('Price', 'mean'),\n",
    "    Max_Quantity=('Quantity', 'max')\n",
    ")\n",
    "\n",
    "print(category_stats)\n"
   ]
  },
  {
   "cell_type": "code",
   "execution_count": 57,
   "metadata": {},
   "outputs": [
    {
     "name": "stdout",
     "output_type": "stream",
     "text": [
      "      Category Product  Quantity\n",
      "1  Accessories   Mouse        25\n",
      "2  Electronics  Laptop         5\n"
     ]
    }
   ],
   "source": [
    "top_products = df.groupby([\"Category\", \"Product\"])[\"Quantity\"].sum().reset_index()\n",
    "top_products = top_products.loc[top_products.groupby(\"Category\")[\"Quantity\"].idxmax()]\n",
    "\n",
    "print(top_products)\n"
   ]
  },
  {
   "cell_type": "code",
   "execution_count": 63,
   "metadata": {},
   "outputs": [
    {
     "name": "stdout",
     "output_type": "stream",
     "text": [
      "highest_sales_date 2025-03-01\n"
     ]
    }
   ],
   "source": [
    "df['Total_Sales'] = df['Quantity'] * df['Price']\n",
    "\n",
    "highest_sales_date = df.groupby(\"Date\")[\"Total_Sales\"].sum().idxmax()\n",
    "\n",
    "print(\"highest_sales_date\", highest_sales_date)\n"
   ]
  },
  {
   "cell_type": "markdown",
   "metadata": {},
   "source": [
    "## HOMEWORK 2 ASSIGNMENT \n"
   ]
  },
  {
   "cell_type": "code",
   "execution_count": 65,
   "metadata": {},
   "outputs": [
    {
     "name": "stdout",
     "output_type": "stream",
     "text": [
      "customer_orders.csv is created!\n"
     ]
    }
   ],
   "source": [
    "data_orders = {\n",
    "    \"OrderID\": [1, 2, 3, 4, 5, 6, 7, 8, 9, 10],\n",
    "    \"CustomerID\": [101, 102, 103, 101, 104, 105, 101, 102, 106, 107],\n",
    "    \"Product\": [\"Laptop\", \"Mouse\", \"Keyboard\", \"Monitor\", \"Mouse\", \"Laptop\", \"Mouse\", \"Keyboard\", \"Monitor\", \"Mouse\"],\n",
    "    \"Quantity\": [1, 5, 3, 2, 10, 1, 4, 6, 2, 8],\n",
    "    \"Price\": [1000, 20, 50, 300, 25, 900, 22, 45, 290, 30]\n",
    "}\n",
    "\n",
    "df_orders = pd.DataFrame(data_orders)\n",
    "df_orders.to_csv(\"customer_orders.csv\", index=False)\n",
    "\n",
    "print(\"customer_orders.csv is created!\")\n"
   ]
  },
  {
   "cell_type": "code",
   "execution_count": 68,
   "metadata": {},
   "outputs": [
    {
     "name": "stdout",
     "output_type": "stream",
     "text": [
      "         Date   Product     Category  Quantity  Price  Total_Sales\n",
      "0  2025-03-01    Laptop  Electronics         5   1000         5000\n",
      "1  2025-03-02     Mouse  Accessories        10     25          250\n",
      "2  2025-03-02  Keyboard  Accessories         7     50          350\n",
      "3  2025-03-03   Monitor  Electronics         3    300          900\n",
      "4  2025-03-04     Mouse  Accessories        15     20          300\n"
     ]
    }
   ],
   "source": [
    "pd.read_csv(\"customer_orders.csv\")\n",
    "print(df.head())"
   ]
  },
  {
   "cell_type": "code",
   "execution_count": 70,
   "metadata": {},
   "outputs": [
    {
     "name": "stdout",
     "output_type": "stream",
     "text": [
      "Empty DataFrame\n",
      "Columns: [OrderID, CustomerID, Product, Quantity, Price]\n",
      "Index: []\n"
     ]
    }
   ],
   "source": [
    "customer_orders_count = df_orders.groupby(\"CustomerID\")[\"OrderID\"].count()\n",
    "active_customers = customer_orders_count[customer_orders_count >= 20].index\n",
    "\n",
    "filtered_orders = df_orders[df_orders[\"CustomerID\"].isin(active_customers)]\n",
    "print(filtered_orders)\n"
   ]
  },
  {
   "cell_type": "code",
   "execution_count": 71,
   "metadata": {},
   "outputs": [
    {
     "name": "stdout",
     "output_type": "stream",
     "text": [
      "CustomerID\n",
      "101    440.666667\n",
      "105    900.000000\n",
      "106    290.000000\n",
      "Name: Price, dtype: float64\n"
     ]
    }
   ],
   "source": [
    "high_value_customers = df_orders.groupby(\"CustomerID\")[\"Price\"].mean()\n",
    "high_value_customers = high_value_customers[high_value_customers > 120]\n",
    "\n",
    "print(high_value_customers)\n"
   ]
  },
  {
   "cell_type": "code",
   "execution_count": 72,
   "metadata": {},
   "outputs": [
    {
     "name": "stdout",
     "output_type": "stream",
     "text": [
      "          Total_Quantity  Total_Revenue\n",
      "Product                                \n",
      "Keyboard               9              9\n",
      "Mouse                 27             27\n"
     ]
    }
   ],
   "source": [
    "product_sales = df_orders.groupby(\"Product\").agg(\n",
    "    Total_Quantity=('Quantity', 'sum'),\n",
    "    Total_Revenue=('Quantity', 'sum')\n",
    ")\n",
    "\n",
    "filtered_products = product_sales[product_sales[\"Total_Quantity\"] >= 5]\n",
    "\n",
    "print(filtered_products)\n"
   ]
  },
  {
   "cell_type": "markdown",
   "metadata": {},
   "source": [
    "## HOMEWORK 3 ASSIGNMENT"
   ]
  },
  {
   "cell_type": "code",
   "execution_count": 77,
   "metadata": {},
   "outputs": [
    {
     "ename": "OperationalError",
     "evalue": "table population already exists",
     "output_type": "error",
     "traceback": [
      "\u001b[1;31m---------------------------------------------------------------------------\u001b[0m",
      "\u001b[1;31mOperationalError\u001b[0m                          Traceback (most recent call last)",
      "Cell \u001b[1;32mIn[77], line 7\u001b[0m\n\u001b[0;32m      4\u001b[0m conn \u001b[38;5;241m=\u001b[39m sqlite3\u001b[38;5;241m.\u001b[39mconnect(\u001b[38;5;124m\"\u001b[39m\u001b[38;5;124mpopulation.db\u001b[39m\u001b[38;5;124m\"\u001b[39m)\n\u001b[0;32m      5\u001b[0m cursor \u001b[38;5;241m=\u001b[39m conn\u001b[38;5;241m.\u001b[39mcursor()\n\u001b[1;32m----> 7\u001b[0m \u001b[43mcursor\u001b[49m\u001b[38;5;241;43m.\u001b[39;49m\u001b[43mexecute\u001b[49m\u001b[43m(\u001b[49m\u001b[38;5;124;43m\"\"\"\u001b[39;49m\n\u001b[0;32m      8\u001b[0m \u001b[38;5;124;43mCREATE TABLE population (\u001b[39;49m\n\u001b[0;32m      9\u001b[0m \u001b[38;5;124;43m    ID INTEGER PRIMARY KEY AUTOINCREMENT,\u001b[39;49m\n\u001b[0;32m     10\u001b[0m \u001b[38;5;124;43m    State TEXT,\u001b[39;49m\n\u001b[0;32m     11\u001b[0m \u001b[38;5;124;43m    Population INTEGER,\u001b[39;49m\n\u001b[0;32m     12\u001b[0m \u001b[38;5;124;43m    Salary INTEGER\u001b[39;49m\n\u001b[0;32m     13\u001b[0m \u001b[38;5;124;43m)\u001b[39;49m\n\u001b[0;32m     14\u001b[0m \u001b[38;5;124;43m\"\"\"\u001b[39;49m\u001b[43m)\u001b[49m\n\u001b[0;32m     16\u001b[0m data \u001b[38;5;241m=\u001b[39m [\n\u001b[0;32m     17\u001b[0m     (\u001b[38;5;124m\"\u001b[39m\u001b[38;5;124mCalifornia\u001b[39m\u001b[38;5;124m\"\u001b[39m, \u001b[38;5;241m5000000\u001b[39m, \u001b[38;5;241m60000\u001b[39m),\n\u001b[0;32m     18\u001b[0m     (\u001b[38;5;124m\"\u001b[39m\u001b[38;5;124mTexas\u001b[39m\u001b[38;5;124m\"\u001b[39m, \u001b[38;5;241m4000000\u001b[39m, \u001b[38;5;241m55000\u001b[39m),\n\u001b[0;32m     19\u001b[0m     (\u001b[38;5;124m\"\u001b[39m\u001b[38;5;124mNew York\u001b[39m\u001b[38;5;124m\"\u001b[39m, \u001b[38;5;241m3000000\u001b[39m, \u001b[38;5;241m65000\u001b[39m),\n\u001b[0;32m     20\u001b[0m     (\u001b[38;5;124m\"\u001b[39m\u001b[38;5;124mFlorida\u001b[39m\u001b[38;5;124m\"\u001b[39m, \u001b[38;5;241m3500000\u001b[39m, \u001b[38;5;241m50000\u001b[39m)\n\u001b[0;32m     21\u001b[0m ]\n\u001b[0;32m     23\u001b[0m cursor\u001b[38;5;241m.\u001b[39mexecutemany(\u001b[38;5;124m\"\u001b[39m\u001b[38;5;124mINSERT INTO population (State, Population, Salary) VALUES (?, ?, ?)\u001b[39m\u001b[38;5;124m\"\u001b[39m, data)\n",
      "\u001b[1;31mOperationalError\u001b[0m: table population already exists"
     ]
    }
   ],
   "source": [
    "import sqlite3\n",
    "\n",
    "\n",
    "conn = sqlite3.connect(\"population.db\")\n",
    "cursor = conn.cursor()\n",
    "\n",
    "cursor.execute(\"\"\"\n",
    "CREATE TABLE population (\n",
    "    ID INTEGER PRIMARY KEY AUTOINCREMENT,\n",
    "    State TEXT,\n",
    "    Population INTEGER,\n",
    "    Salary INTEGER\n",
    ")\n",
    "\"\"\")\n",
    "\n",
    "data = [\n",
    "    (\"California\", 5000000, 60000),\n",
    "    (\"Texas\", 4000000, 55000),\n",
    "    (\"New York\", 3000000, 65000),\n",
    "    (\"Florida\", 3500000, 50000)\n",
    "]\n",
    "\n",
    "cursor.executemany(\"INSERT INTO population (State, Population, Salary) VALUES (?, ?, ?)\", data)\n",
    "\n",
    "conn.commit()\n",
    "conn.close()\n",
    "\n",
    "print(\" population.db created!\")\n"
   ]
  },
  {
   "cell_type": "code",
   "execution_count": 83,
   "metadata": {},
   "outputs": [
    {
     "ename": "OperationalError",
     "evalue": "table population already exists",
     "output_type": "error",
     "traceback": [
      "\u001b[1;31m---------------------------------------------------------------------------\u001b[0m",
      "\u001b[1;31mOperationalError\u001b[0m                          Traceback (most recent call last)",
      "Cell \u001b[1;32mIn[83], line 8\u001b[0m\n\u001b[0;32m      4\u001b[0m conn \u001b[38;5;241m=\u001b[39m sqlite3\u001b[38;5;241m.\u001b[39mconnect(\u001b[38;5;124m\"\u001b[39m\u001b[38;5;124mpopulation.db\u001b[39m\u001b[38;5;124m\"\u001b[39m)\n\u001b[0;32m      5\u001b[0m cursor \u001b[38;5;241m=\u001b[39m conn\u001b[38;5;241m.\u001b[39mcursor()\n\u001b[1;32m----> 8\u001b[0m \u001b[43mcursor\u001b[49m\u001b[38;5;241;43m.\u001b[39;49m\u001b[43mexecute\u001b[49m\u001b[43m(\u001b[49m\u001b[38;5;124;43m\"\"\"\u001b[39;49m\n\u001b[0;32m      9\u001b[0m \u001b[38;5;124;43mCREATE TABLE population (\u001b[39;49m\n\u001b[0;32m     10\u001b[0m \u001b[38;5;124;43m    ID INTEGER PRIMARY KEY AUTOINCREMENT,\u001b[39;49m\n\u001b[0;32m     11\u001b[0m \u001b[38;5;124;43m    State TEXT,\u001b[39;49m\n\u001b[0;32m     12\u001b[0m \u001b[38;5;124;43m    Population INTEGER,\u001b[39;49m\n\u001b[0;32m     13\u001b[0m \u001b[38;5;124;43m    Salary INTEGER\u001b[39;49m\n\u001b[0;32m     14\u001b[0m \u001b[38;5;124;43m)\u001b[39;49m\n\u001b[0;32m     15\u001b[0m \u001b[38;5;124;43m\"\"\"\u001b[39;49m\u001b[43m)\u001b[49m\n\u001b[0;32m     18\u001b[0m data \u001b[38;5;241m=\u001b[39m [\n\u001b[0;32m     19\u001b[0m     (\u001b[38;5;124m\"\u001b[39m\u001b[38;5;124mCalifornia\u001b[39m\u001b[38;5;124m\"\u001b[39m, \u001b[38;5;241m5000000\u001b[39m, \u001b[38;5;241m60000\u001b[39m),\n\u001b[0;32m     20\u001b[0m     (\u001b[38;5;124m\"\u001b[39m\u001b[38;5;124mTexas\u001b[39m\u001b[38;5;124m\"\u001b[39m, \u001b[38;5;241m4000000\u001b[39m, \u001b[38;5;241m55000\u001b[39m),\n\u001b[0;32m     21\u001b[0m     (\u001b[38;5;124m\"\u001b[39m\u001b[38;5;124mNew York\u001b[39m\u001b[38;5;124m\"\u001b[39m, \u001b[38;5;241m3000000\u001b[39m, \u001b[38;5;241m65000\u001b[39m),\n\u001b[0;32m     22\u001b[0m     (\u001b[38;5;124m\"\u001b[39m\u001b[38;5;124mFlorida\u001b[39m\u001b[38;5;124m\"\u001b[39m, \u001b[38;5;241m3500000\u001b[39m, \u001b[38;5;241m50000\u001b[39m)\n\u001b[0;32m     23\u001b[0m ]\n\u001b[0;32m     25\u001b[0m cursor\u001b[38;5;241m.\u001b[39mexecutemany(\u001b[38;5;124m\"\u001b[39m\u001b[38;5;124mINSERT INTO population (State, Population, Salary) VALUES (?, ?, ?)\u001b[39m\u001b[38;5;124m\"\u001b[39m, data)\n",
      "\u001b[1;31mOperationalError\u001b[0m: table population already exists"
     ]
    }
   ],
   "source": [
    "import sqlite3\n",
    "\n",
    "\n",
    "conn = sqlite3.connect(\"population.db\")\n",
    "cursor = conn.cursor()\n",
    "\n",
    "\n",
    "cursor.execute(\"\"\"\n",
    "CREATE TABLE population (\n",
    "    ID INTEGER PRIMARY KEY AUTOINCREMENT,\n",
    "    State TEXT,\n",
    "    Population INTEGER,\n",
    "    Salary INTEGER\n",
    ")\n",
    "\"\"\")\n",
    "\n",
    "\n",
    "data = [\n",
    "    (\"California\", 5000000, 60000),\n",
    "    (\"Texas\", 4000000, 55000),\n",
    "    (\"New York\", 3000000, 65000),\n",
    "    (\"Florida\", 3500000, 50000)\n",
    "]\n",
    "\n",
    "cursor.executemany(\"INSERT INTO population (State, Population, Salary) VALUES (?, ?, ?)\", data)\n",
    "\n",
    "conn.commit()\n",
    "conn.close()\n",
    "\n",
    "print(\" population.db created\")\n"
   ]
  },
  {
   "cell_type": "code",
   "execution_count": 84,
   "metadata": {},
   "outputs": [
    {
     "name": "stdout",
     "output_type": "stream",
     "text": [
      "   ID       State  Population  Salary\n",
      "0   1  California     5000000   60000\n",
      "1   2       Texas     4000000   55000\n",
      "2   3    New York     3000000   65000\n",
      "3   4     Florida     3500000   50000\n"
     ]
    }
   ],
   "source": [
    "conn = sqlite3.connect(\"population.db\")\n",
    "\n",
    "df_population = pd.read_sql(\"SELECT * FROM population\", conn)\n",
    "\n",
    "conn.close()\n",
    "\n",
    "print(df_population.head())\n"
   ]
  },
  {
   "cell_type": "code",
   "execution_count": 85,
   "metadata": {},
   "outputs": [
    {
     "name": "stdout",
     "output_type": "stream",
     "text": [
      "        Population_Count  Avg_Salary  Median_Salary  Population_Percentage\n",
      "Salary                                                                    \n",
      "50000            3500000     50000.0        50000.0              22.580645\n",
      "55000            4000000     55000.0        55000.0              25.806452\n",
      "60000            5000000     60000.0        60000.0              32.258065\n",
      "65000            3000000     65000.0        65000.0              19.354839\n"
     ]
    }
   ],
   "source": [
    "category_stats = df_population.groupby(\"Salary\").agg(\n",
    "    Population_Count=('Population', 'sum'),\n",
    "    Avg_Salary=('Salary', 'mean'),\n",
    "    Median_Salary=('Salary', 'median')\n",
    ")\n",
    "\n",
    "total_population = category_stats[\"Population_Count\"].sum()\n",
    "category_stats[\"Population_Percentage\"] = (category_stats[\"Population_Count\"] / total_population) * 100\n",
    "\n",
    "print(category_stats)\n"
   ]
  }
 ],
 "metadata": {
  "kernelspec": {
   "display_name": "Python 3",
   "language": "python",
   "name": "python3"
  },
  "language_info": {
   "codemirror_mode": {
    "name": "ipython",
    "version": 3
   },
   "file_extension": ".py",
   "mimetype": "text/x-python",
   "name": "python",
   "nbconvert_exporter": "python",
   "pygments_lexer": "ipython3",
   "version": "3.13.2"
  }
 },
 "nbformat": 4,
 "nbformat_minor": 2
}
