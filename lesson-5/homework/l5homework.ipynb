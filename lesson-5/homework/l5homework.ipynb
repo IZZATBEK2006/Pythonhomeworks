{
 "cells": [
  {
   "cell_type": "code",
   "execution_count": 1,
   "metadata": {},
   "outputs": [
    {
     "name": "stdout",
     "output_type": "stream",
     "text": [
      "['apple ', 'banana ', 'cherry']\n"
     ]
    }
   ],
   "source": [
    "fruits = \"apple , banana , cherry\".split(\", \")\n",
    "print(fruits)"
   ]
  },
  {
   "cell_type": "code",
   "execution_count": 2,
   "metadata": {},
   "outputs": [
    {
     "name": "stdout",
     "output_type": "stream",
     "text": [
      "['apple ', 'banana ', 'cherry', 'orange']\n"
     ]
    }
   ],
   "source": [
    "fruits = ['apple ', 'banana ', 'cherry']\n",
    "fruits.append(\"orange\")\n",
    "print(fruits)"
   ]
  },
  {
   "cell_type": "code",
   "execution_count": null,
   "metadata": {},
   "outputs": [
    {
     "name": "stdout",
     "output_type": "stream",
     "text": [
      "['apple ', 'banana ', 'cherry', 'orange', 'grape']\n"
     ]
    }
   ],
   "source": [
    "fruits = ['apple ', 'banana', 'cherry', 'orange']\n",
    "fruits.insert(4, \"grape\")\n",
    "print(fruits)"
   ]
  },
  {
   "cell_type": "code",
   "execution_count": 25,
   "metadata": {},
   "outputs": [
    {
     "name": "stdout",
     "output_type": "stream",
     "text": [
      "['apple ', 'cherry', 'orange', 'grape']\n"
     ]
    }
   ],
   "source": [
    "fruits = ['apple ', 'banana', 'cherry', 'orange', 'grape']\n",
    "fruits.remove('banana')\n",
    "print(fruits)"
   ]
  },
  {
   "cell_type": "code",
   "execution_count": 26,
   "metadata": {},
   "outputs": [
    {
     "name": "stdout",
     "output_type": "stream",
     "text": [
      "Final fruit list: ['apple ', 'cherry', 'orange', 'grape']\n"
     ]
    }
   ],
   "source": [
    "print(\"Final fruit list:\", fruits)\n"
   ]
  },
  {
   "cell_type": "code",
   "execution_count": 27,
   "metadata": {},
   "outputs": [
    {
     "name": "stdout",
     "output_type": "stream",
     "text": [
      "[5, 6, 6, 5]\n"
     ]
    }
   ],
   "source": [
    "fruits = ['apple', 'cherry', 'orange', 'grape']\n",
    "lengths = [len(item)for item in fruits]\n",
    "print(lengths)"
   ]
  }
 ],
 "metadata": {
  "kernelspec": {
   "display_name": "Python 3",
   "language": "python",
   "name": "python3"
  },
  "language_info": {
   "codemirror_mode": {
    "name": "ipython",
    "version": 3
   },
   "file_extension": ".py",
   "mimetype": "text/x-python",
   "name": "python",
   "nbconvert_exporter": "python",
   "pygments_lexer": "ipython3",
   "version": "3.13.2"
  }
 },
 "nbformat": 4,
 "nbformat_minor": 2
}
